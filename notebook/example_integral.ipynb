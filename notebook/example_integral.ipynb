{
 "cells": [
  {
   "cell_type": "code",
   "execution_count": 1,
   "id": "325abe3d-9702-4629-a195-147d4d304b1c",
   "metadata": {},
   "outputs": [],
   "source": [
    "import sys\n",
    "import numpy as np\n",
    "import math\n",
    "sys.path.append(\"../build/python\")  # set to correct path for module\n",
    "import xfacpy"
   ]
  },
  {
   "cell_type": "code",
   "execution_count": 2,
   "id": "231f08d4-a135-40e8-99e6-efdaf93aa824",
   "metadata": {},
   "outputs": [
    {
     "name": "stdout",
     "output_type": "stream",
     "text": [
      "rank neval pivotError integral(f)\n",
      "10 6196 3.91339933173582 (8.376227481892144+60.6657677657661j)\n",
      "20 21548 4.705961056703657 (8.518439588744856+60.83120149213237j)\n",
      "30 42585 2.043236200336503 (8.511483991760484+60.8335085782702j)\n",
      "40 62681 0.880097027114768 (8.49779956830294+60.83333617961111j)\n",
      "50 87592 0.20288504813273034 (8.500397893918407+60.83333296312178j)\n",
      "60 116345 0.08937810029688213 (8.500347674370241+60.833333853874834j)\n",
      "70 146510 0.03208969738528511 (8.499970506706719+60.8333333321496j)\n",
      "80 181285 0.0028334317682250088 (8.499990911688283+60.833333331937496j)\n",
      "90 215009 0.0021271326923745244 (8.50001103520826+60.83333333362577j)\n",
      "100 250086 0.0003771762783607833 (8.500011231413174+60.83333333333755j)\n",
      "110 296477 0.0001266492088703479 (8.500011113708165+60.83333333333282j)\n",
      "120 338643 4.6655133280483383e-05 (8.500011177557125+60.8333333333333j)\n",
      "mps:  [(1, 15, 15), (15, 15, 120), (120, 15, 120), (120, 15, 15), (15, 15, 1)]\n"
     ]
    }
   ],
   "source": [
    "def fun1(xs):\n",
    "        x,y,c=0,0,0\n",
    "        for xi in xs:\n",
    "            c=c+1\n",
    "            x=x+c*xi\n",
    "            y=y+xi*xi/c\n",
    "        \n",
    "        arg=1.0+(x+2*y+x*y)*math.pi;\n",
    "        return 1+x+np.cos(arg) + 1j * x*x+0.5*np.sin(arg)\n",
    "def myTf(xs):\n",
    "    myTf.c += 1\n",
    "    return fun1(xs)\n",
    "myTf.c = 0\n",
    "dim=5\n",
    "[xi,wi]=xfacpy.GK15(0,1)\n",
    "ci=xfacpy.CTensorCI1_complex(myTf, [xi]*dim);\n",
    "print(\"rank neval pivotError integral(f)\")\n",
    "for i in range(1, 121):\n",
    "    ci.iterate()\n",
    "    if i % 10 == 0:\n",
    "        print(i, myTf.c, ci.pivotError[-1], ci.get_TensorTrain().sum([wi]*dim))\n",
    "print(\"mps: \", [M.shape for M in ci.get_TensorTrain().core])"
   ]
  },
  {
   "cell_type": "code",
   "execution_count": 3,
   "id": "dc105f70-3134-430e-b947-4743dec3d829",
   "metadata": {},
   "outputs": [
    {
     "data": {
      "text/plain": [
       "[0, 0, 0, 11]"
      ]
     },
     "execution_count": 3,
     "metadata": {},
     "output_type": "execute_result"
    }
   ],
   "source": [
    "ci.getIset()[4][2]"
   ]
  },
  {
   "cell_type": "code",
   "execution_count": null,
   "id": "bdb10569-1967-4216-becb-453a2368bae9",
   "metadata": {},
   "outputs": [],
   "source": [
    "ci2=xfacpy.to_tci2(ci)\n",
    "ci2.makeCanonical()\n",
    "ci1=xfacpy.to_tci1(ci2)"
   ]
  },
  {
   "cell_type": "code",
   "execution_count": null,
   "id": "670428fb-ab0c-4369-966b-85ba68e252f6",
   "metadata": {},
   "outputs": [],
   "source": [
    "[ ci2.getIset()[4][2], ci1.getIset()[4][2] ]"
   ]
  },
  {
   "cell_type": "code",
   "execution_count": null,
   "id": "e81cedd2-cab7-45cc-86c4-01b3205f87d9",
   "metadata": {},
   "outputs": [],
   "source": []
  }
 ],
 "metadata": {
  "kernelspec": {
   "display_name": "Python 3 (ipykernel)",
   "language": "python",
   "name": "python3"
  },
  "language_info": {
   "codemirror_mode": {
    "name": "ipython",
    "version": 3
   },
   "file_extension": ".py",
   "mimetype": "text/x-python",
   "name": "python",
   "nbconvert_exporter": "python",
   "pygments_lexer": "ipython3",
   "version": "3.10.12"
  }
 },
 "nbformat": 4,
 "nbformat_minor": 5
}
